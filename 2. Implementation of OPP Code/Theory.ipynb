{
 "cells": [
  {
   "attachments": {},
   "cell_type": "markdown",
   "metadata": {},
   "source": [
    "1. Explain Why Programmer Use Stubs"
   ]
  },
  {
   "attachments": {},
   "cell_type": "markdown",
   "metadata": {},
   "source": [
    "Stubs are ultised as temporary implementations of functions and method to identify flaw and problems while simulating a test-run of the code. Stubs act as a pratice module and can be used in development and testing phases to simulate the behaviour of the actual code. Stubs are partially effective in large projects, where each functions or method can be tested individually. Stubs are beneficial in returning consistent results, enabling easier access to testing and a better understanding for the programmer.  For example, if a programmer wanted to create a smoke alarm program, instead of dealing with giant paragraphs of code, he could minimise the work load by sepearting each function/method into its own stub (sensor, alarm)"
   ]
  },
  {
   "attachments": {},
   "cell_type": "markdown",
   "metadata": {},
   "source": [
    "2. Explain Why Version Control Is Important"
   ]
  },
  {
   "attachments": {},
   "cell_type": "markdown",
   "metadata": {},
   "source": [
    "Version control plays a benefical role in estabilishing an easier and prompt for managing and tracking changes while collaborating in group projects. It allows for multiple developrs to operate on the same codedatabase simulatneously while keeping track of modifciation. Version Control is essential in the collaboration of team environments, backup and restoration of versions, History Tracking, Branching and Merge Management. It sanction an accuracte and productive method for groups to cooperate with one another"
   ]
  },
  {
   "attachments": {},
   "cell_type": "markdown",
   "metadata": {},
   "source": [
    "3. Explain Code Optimisation In Software Engineering"
   ]
  },
  {
   "attachments": {},
   "cell_type": "markdown",
   "metadata": {},
   "source": [
    "References:\n",
    "1. https://gosford-high-school.gitbook.io/preliminary-software-engineering/unit-2-oop/2-object-oriented-programming/programming-paradigms\n",
    "2. https://www.pythontutorial.net/python-unit-testing/python-stubs/\n",
    "3. "
   ]
  }
 ],
 "metadata": {
  "language_info": {
   "name": "python"
  },
  "orig_nbformat": 4
 },
 "nbformat": 4,
 "nbformat_minor": 2
}
